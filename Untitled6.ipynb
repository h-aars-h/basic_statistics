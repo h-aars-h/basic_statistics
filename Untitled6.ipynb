{
 "cells": [
  {
   "cell_type": "code",
   "execution_count": 1,
   "id": "914c9ae2-3296-4498-b072-e804b1bcd264",
   "metadata": {},
   "outputs": [],
   "source": [
    "# Q1. What is Statistics?\n",
    "# Ans 2 statistics is the science of collecting , organiing and anylizing data."
   ]
  },
  {
   "cell_type": "code",
   "execution_count": 13,
   "id": "6ee25742-ecc6-45b4-b60a-27c029d48c55",
   "metadata": {},
   "outputs": [
    {
     "name": "stdout",
     "output_type": "stream",
     "text": [
      "145.75\n"
     ]
    }
   ],
   "source": [
    "# Q2. Define the different types of statistics and give an example of when each type might be used.\n",
    "# Ans 2  There are two types of statistics \n",
    "# 1 . Discriptive Statics 2 Inferential Statistics\n",
    "# Example : Let say there are  20 statistics classes  at your  college. you have collected the heights of students in the class\n",
    "# Discriptive : its consists oganizing and sumerzing data.\n",
    "import statistics\n",
    "Heights_are_recoded=[172,171,182,165,127,109,190,125,126,125,135,122]\n",
    "\n",
    "# what is the avarage height of the entire  classroom\n",
    "print(statistics.mean(Heights_are_recoded))\n",
    "# Inferntial \n",
    "# Are  the height of the  students in classroom similar to what you expect in the  entire college. \n",
    "# In inferntial is the two types data first population and sample data .\n",
    "# population data  is  the  entire  data  and  sample data  is the  part of population data  and  the small pices of  population data ."
   ]
  },
  {
   "cell_type": "code",
   "execution_count": 1,
   "id": "00c071a8-cca1-4320-8605-5a7a4931f860",
   "metadata": {},
   "outputs": [],
   "source": [
    "# Q3. What are the different types of data and how do they differ from each other? Provide an example of\n",
    "# each type of data.\n",
    "# Ans 3: there are two types of data first Quantitative data and second is Qulitative. Quantitative data is numerical type of data \n",
    "# and Qualitative data is categorical data.\n",
    "# * the Quantitative two types of data \n",
    "# 1 discrete data (Example: bank of acounts  )\n",
    "# 2 contionous data (Example :temp,weiight)\n",
    "# Qualitative data two types of  data  \n",
    "# 1 Normal data (just like Gender (male female))\n",
    "# 2 Ordinal data  (custumer experince : good bad and best)"
   ]
  },
  {
   "cell_type": "code",
   "execution_count": 4,
   "id": "75f926a9-2427-40f6-a24c-f68dff464646",
   "metadata": {},
   "outputs": [],
   "source": [
    "# Q4. Categorise the following datasets with respect to quantitative and qualitative data types:\n",
    "# (i) Grading in exam: A+, A, B+, B, C+, C, D, E( Qualitative data)Ordinal data\n",
    "# (ii) Colour of mangoes: yellow, green, orange, red\n",
    "# (iii) Height data of a class: [178.9, 179, 179.5, 176, 177.2, 178.3, 175.8,...]\n",
    "# (iv) Number of mangoes exported by a farm: [500, 600, 478, 672, ...]\n",
    "# Ans 4\n",
    "# i   . Qualitative data (Ordinal data)\n",
    "# ii  . Qualitative data( Normal data) \n",
    "# iii . Quantitative (contionous data)\n",
    "# iv  . Quantitative ( discrete data)"
   ]
  },
  {
   "cell_type": "code",
   "execution_count": 7,
   "id": "57bcd61a-2428-4215-bca2-dea28b6a7e28",
   "metadata": {},
   "outputs": [],
   "source": [
    "# Q5. Explain the concept of levels of measurement and give an example of a variable for each level.\n",
    "# Ans 5There are four levels of measurement: nominal, ordinal, interval, and ratio.\n",
    "# Nominal level of measurement: Variables at this level are categorical in nature, meaning they can be classified into \n",
    "# different groups or categories.\n",
    "# Ordinal level of measurement: Variables at this level are also categorical, but they can be ranked or ordered based on some criteria. \n",
    "# However, the differences between values are not necessarily equal. Examples of ordinal variables include educational level \n",
    "#  (elementary, high school, college)\n",
    "# Interval level of measurement: Variables at this level have numerical values that are ordered and have equal intervals,\n",
    "# but there is no true zero point. Interval variables can have negative values and zero does not represent the absence of the \n",
    "# characteristic being measured.Examples of interval variables include temperature (measured in degrees Fahrenheit or Celsius) \n",
    "# Ratio level of measurement: Variables at this level have all the characteristics of interval variables but also have a true zero point,\n",
    "# which represents the absence of the characteristic being measured. Ratio variables can be used to calculate meaningful ratios and\n",
    "# percentages. Examples of ratio variables include height, weight, income, and distance."
   ]
  },
  {
   "cell_type": "code",
   "execution_count": null,
   "id": "711e2f2c-64c8-4971-badb-bc67e94bedf6",
   "metadata": {},
   "outputs": [],
   "source": [
    "# Q6. Why is it important to understand the level of measurement when analyzing data? Provide an\n",
    "# example to illustrate your answer.\n",
    "# Ans 6 It is important to understand the level of measurement when analyzing data because it determines the type of statistical analysis that\n",
    "# can be performed on the data. Different levels of measurement provide different types of information and require different methods of\n",
    "# analysis.\n",
    "\n",
    "# For example, let's say we want to analyze the relationship between income and job satisfaction among a group of employees.\n",
    "# We have collected data on income (measured in dollars) and job satisfaction (measured on a scale of 1 to 5). If we treat income as \n",
    "# an ordinal variable (by ranking employees based on income), we might be tempted to use a correlation analysis to examine the relationship\n",
    "# between income and job satisfaction. However, this would be incorrect because ordinal variables do not have equal intervals between \n",
    "# categories. Instead, we should treat income as a ratio variable (with a true zero point) and use a regression analysis to determine the \n",
    "# strength and direction of the relationship between income and job satisfaction.\n",
    "# On the other hand, if we are analyzing data on political party affiliation (measured as Democrat, Republican, or Independent), \n",
    "# we would treat this as a nominal variable. We could use frequency distributions and percentages to describe the distribution of party \n",
    "# affiliation within our sample, but we could not calculate a mean or correlation coefficient because nominal variables do not have numerical values.\n",
    "# In summary, understanding the level of measurement is important because it ensures that we use appropriate methods of analysis and\n",
    "# draw accurate conclusions from our data.\n"
   ]
  },
  {
   "cell_type": "code",
   "execution_count": 3,
   "id": "7dadfa86-a464-4d58-a976-744ada2113d4",
   "metadata": {},
   "outputs": [],
   "source": [
    "# Q7. How nominal data type is different from ordinal data type.\n",
    "# Ans 7 : In the nominal data type is the  not rank to put just blood group and genders etc.\n",
    "# ordinal data type is the rank type data just custumer review ."
   ]
  },
  {
   "cell_type": "code",
   "execution_count": 6,
   "id": "dfe1b4ba-1902-4fc7-b31d-fd58b5ec6e73",
   "metadata": {},
   "outputs": [],
   "source": [
    "# Q8. Which type of plot can be used to display data in terms of range?\n",
    "# Ans 8 A box plot (also called a box-and-whisker plot) is commonly used to display data in terms of range. It provides \n",
    "# a visual representation of the distribution of data through five key summary statistics: the minimum value,\n",
    "# the maximum value, the median (or middle) value, and the lower and upper quartiles.\n",
    "# The box in the plot represents the middle 50% of the data, with the median marked by a line inside the box. \n",
    "# The whiskers extend from the box to the minimum and maximum values, with any outliers shown as individual points beyond the whiskers."
   ]
  },
  {
   "cell_type": "code",
   "execution_count": null,
   "id": "ee6f516c-7c03-4dec-ab46-12e3d623352a",
   "metadata": {},
   "outputs": [],
   "source": [
    "# Q9. Describe the difference between descriptive and inferential statistics. Give an example of each\n",
    "# type of statistics and explain how they are used.\n",
    "#  Discriptive : Its consists oganizing and sumerzing data.\n",
    "# inferential statistics : It consits of using data you have measured to the form of conculsion."
   ]
  },
  {
   "cell_type": "code",
   "execution_count": null,
   "id": "25a18277-338b-4993-ae91-2ce2331df1ff",
   "metadata": {},
   "outputs": [],
   "source": [
    "# Q10. What are some common measures of central tendency and variability used in statistics? Explain\n",
    "# how each measure can be used to describe a dataset.\n",
    "#ans  10 Measures of central tendency and variability are used to describe the distribution of data in a dataset.\n",
    "# Here are some common measures of central tendency and variability used in statistics:\n",
    "\n",
    "# Measures of central tendency:\n",
    "\n",
    "# Mean: The mean is the sum of all the values in a dataset divided by the number of values. It is a commonly used measure of central tendency that represents the \"average\" value in the dataset.\n",
    "# Median: The median is the middle value in a dataset when the values are arranged in order. It is useful when the dataset \n",
    "# contains extreme values or outliers.\n",
    "# Mode: The mode is the value that occurs most frequently in a dataset. It is useful when the dataset contains categorical \n",
    "# or nominal data.\n",
    "\n",
    "# Measures of variability:\n",
    "    \n",
    "# Range: The range is the difference between the maximum and minimum values in a dataset. It provides a measure of the spread or dispersion of the data.\n",
    "# Variance: The variance is the average of the squared differences between each value in the dataset and the mean. It provides a measure of the average deviation of each data point from the mean.\n",
    "# Standard deviation: The standard deviation is the square root of the variance. It is a commonly used measure of variability that represents the spread of the data around the mean.\n",
    "# These measures can be used together to describe a dataset. For example, the mean and standard deviation can be used to describe the central tendency\n",
    "# and spread of a dataset that is approximately normally distributed.\n",
    "# The median and range can be used to describe a dataset that has extreme values or outliers.\n",
    "# The mode can be used to describe the most common value in a dataset that contains categorical or nominal data."
   ]
  }
 ],
 "metadata": {
  "kernelspec": {
   "display_name": "Python 3 (ipykernel)",
   "language": "python",
   "name": "python3"
  },
  "language_info": {
   "codemirror_mode": {
    "name": "ipython",
    "version": 3
   },
   "file_extension": ".py",
   "mimetype": "text/x-python",
   "name": "python",
   "nbconvert_exporter": "python",
   "pygments_lexer": "ipython3",
   "version": "3.10.6"
  }
 },
 "nbformat": 4,
 "nbformat_minor": 5
}
